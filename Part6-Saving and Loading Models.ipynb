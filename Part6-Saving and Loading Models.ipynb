{
 "cells": [
  {
   "cell_type": "markdown",
   "metadata": {},
   "source": [
    "# Saving and Loading Models\n",
    "\n",
    "In this notebook, I'll show you how to save and load models with PyTorch. This is important because you'll often want to load previously trained models to use in making predictions or to continue training on new data."
   ]
  },
  {
   "cell_type": "code",
   "execution_count": 2,
   "metadata": {},
   "outputs": [],
   "source": [
    "%matplotlib inline\n",
    "%config InlineBackend.figure_format = 'retina'\n",
    "\n",
    "import matplotlib.pyplot as plt\n",
    "\n",
    "import torch\n",
    "from torch import nn\n",
    "from torch import optim\n",
    "import torch.nn.functional as F\n",
    "from torchvision import datasets,transforms\n",
    "\n",
    "import helper\n",
    "import fc_model"
   ]
  },
  {
   "cell_type": "code",
   "execution_count": null,
   "metadata": {},
   "outputs": [],
   "source": [
    "# Define a transform to normalize the data\n",
    "transform = transforms.Compose([transforms.ToTensor(),\n",
    "                                transforms.Normalize((0.5,), (0.5,))])\n",
    "# Download and load the training data\n",
    "trainset = datasets.FashionMNIST('~/.pytorch/F_MNIST_data/', download=True, train=True, transform=transform)\n",
    "trainloader = torch.utils.data.DataLoader(trainset, batch_size=64, shuffle=True)\n",
    "\n",
    "# Download and load the test data\n",
    "testset = datasets.FashionMNIST('~/.pytorch/F_MNIST_data/', download=True, train=False, transform=transform)\n",
    "testloader = torch.utils.data.DataLoader(testset, batch_size=64, shuffle=True)"
   ]
  },
  {
   "cell_type": "code",
   "execution_count": 8,
   "metadata": {},
   "outputs": [],
   "source": [
    "#Define a transform to normalize the data\n",
    "\n",
    "transform = transforms.Compose([transforms.ToTensor(),\n",
    "                               transforms.Normalize((0.5,),(0.5,))])\n",
    "\n",
    "#Download the training set\n",
    "trainset = datasets.FashionMNIST('~/.pytorch/F_MNIST_data',download=True,train=True,transform=transform)\n",
    "trainloader = torch.utils.data.DataLoader(trainset,batch_size=64,shuffle=True)\n",
    "\n",
    "#Download the test set\n",
    "testset = datasets.FashionMNIST('~/.pytorch/F_MNIST_data',download=True,train=False,transform=transform)\n",
    "testloader = torch.utils.data.DataLoader(testset,batch_size=64,shuffle=False)\n"
   ]
  },
  {
   "cell_type": "markdown",
   "metadata": {},
   "source": [
    "Here we can see one of the images."
   ]
  },
  {
   "cell_type": "code",
   "execution_count": 9,
   "metadata": {},
   "outputs": [
    {
     "data": {
      "image/png": "[encoded data removed]",
      "text/plain": [
       "<Figure size 432x288 with 1 Axes>"
      ]
     },
     "metadata": {
      "image/png": {
       "height": 233,
       "width": 233
      }
     },
     "output_type": "display_data"
    }
   ],
   "source": [
    "image, label = next(iter(trainloader))\n",
    "helper.imshow(image[0,:]);"
   ]
  },
  {
   "cell_type": "markdown",
   "metadata": {},
   "source": [
    "# Train a network\n",
    "\n",
    "To make things more concise here, I moved the model architecture and training code from the last part to a file called `fc_model`. Importing this, we can easily create a fully-connected network with `fc_model.Network`, and train the network using `fc_model.train`. I'll use this model (once it's trained) to demonstrate how we can save and load models."
   ]
  },
  {
   "cell_type": "code",
   "execution_count": 11,
   "metadata": {},
   "outputs": [],
   "source": [
    "# Create the network, define the criterion and optimizer\n",
    "\n",
    "model = fc_model.Network(784,10,[512 , 256 ,128])\n",
    "criterion = nn.NLLLoss()\n",
    "optimizer = optim.Adam(model.parameters(),lr=0.001)"
   ]
  },
  {
   "cell_type": "code",
   "execution_count": 12,
   "metadata": {},
   "outputs": [
    {
     "name": "stdout",
     "output_type": "stream",
     "text": [
      "Epoch: 1/2..  Training Loss: 1.660..  Test Loss: 0.982..  Test Accuracy: 0.619\n",
      "Epoch: 1/2..  Training Loss: 1.028..  Test Loss: 0.719..  Test Accuracy: 0.735\n",
      "Epoch: 1/2..  Training Loss: 0.888..  Test Loss: 0.694..  Test Accuracy: 0.736\n",
      "Epoch: 1/2..  Training Loss: 0.797..  Test Loss: 0.650..  Test Accuracy: 0.754\n",
      "Epoch: 1/2..  Training Loss: 0.743..  Test Loss: 0.651..  Test Accuracy: 0.750\n",
      "Epoch: 1/2..  Training Loss: 0.738..  Test Loss: 0.591..  Test Accuracy: 0.769\n",
      "Epoch: 1/2..  Training Loss: 0.637..  Test Loss: 0.586..  Test Accuracy: 0.777\n",
      "Epoch: 1/2..  Training Loss: 0.692..  Test Loss: 0.618..  Test Accuracy: 0.759\n",
      "Epoch: 1/2..  Training Loss: 0.677..  Test Loss: 0.566..  Test Accuracy: 0.791\n",
      "Epoch: 1/2..  Training Loss: 0.651..  Test Loss: 0.556..  Test Accuracy: 0.793\n",
      "Epoch: 1/2..  Training Loss: 0.605..  Test Loss: 0.540..  Test Accuracy: 0.795\n",
      "Epoch: 1/2..  Training Loss: 0.662..  Test Loss: 0.538..  Test Accuracy: 0.805\n",
      "Epoch: 1/2..  Training Loss: 0.615..  Test Loss: 0.518..  Test Accuracy: 0.809\n",
      "Epoch: 1/2..  Training Loss: 0.644..  Test Loss: 0.549..  Test Accuracy: 0.796\n",
      "Epoch: 1/2..  Training Loss: 0.621..  Test Loss: 0.508..  Test Accuracy: 0.815\n",
      "Epoch: 1/2..  Training Loss: 0.631..  Test Loss: 0.517..  Test Accuracy: 0.811\n",
      "Epoch: 1/2..  Training Loss: 0.625..  Test Loss: 0.509..  Test Accuracy: 0.817\n",
      "Epoch: 1/2..  Training Loss: 0.594..  Test Loss: 0.505..  Test Accuracy: 0.812\n",
      "Epoch: 1/2..  Training Loss: 0.589..  Test Loss: 0.532..  Test Accuracy: 0.808\n",
      "Epoch: 1/2..  Training Loss: 0.582..  Test Loss: 0.504..  Test Accuracy: 0.809\n",
      "Epoch: 1/2..  Training Loss: 0.577..  Test Loss: 0.501..  Test Accuracy: 0.815\n",
      "Epoch: 1/2..  Training Loss: 0.537..  Test Loss: 0.489..  Test Accuracy: 0.822\n",
      "Epoch: 1/2..  Training Loss: 0.544..  Test Loss: 0.486..  Test Accuracy: 0.821\n",
      "Epoch: 2/2..  Training Loss: 0.560..  Test Loss: 0.481..  Test Accuracy: 0.822\n",
      "Epoch: 2/2..  Training Loss: 0.547..  Test Loss: 0.472..  Test Accuracy: 0.825\n",
      "Epoch: 2/2..  Training Loss: 0.505..  Test Loss: 0.485..  Test Accuracy: 0.823\n",
      "Epoch: 2/2..  Training Loss: 0.575..  Test Loss: 0.476..  Test Accuracy: 0.826\n",
      "Epoch: 2/2..  Training Loss: 0.543..  Test Loss: 0.479..  Test Accuracy: 0.823\n",
      "Epoch: 2/2..  Training Loss: 0.545..  Test Loss: 0.485..  Test Accuracy: 0.831\n",
      "Epoch: 2/2..  Training Loss: 0.563..  Test Loss: 0.470..  Test Accuracy: 0.826\n",
      "Epoch: 2/2..  Training Loss: 0.555..  Test Loss: 0.472..  Test Accuracy: 0.828\n",
      "Epoch: 2/2..  Training Loss: 0.526..  Test Loss: 0.461..  Test Accuracy: 0.834\n",
      "Epoch: 2/2..  Training Loss: 0.556..  Test Loss: 0.457..  Test Accuracy: 0.831\n",
      "Epoch: 2/2..  Training Loss: 0.557..  Test Loss: 0.450..  Test Accuracy: 0.838\n",
      "Epoch: 2/2..  Training Loss: 0.524..  Test Loss: 0.471..  Test Accuracy: 0.830\n",
      "Epoch: 2/2..  Training Loss: 0.519..  Test Loss: 0.493..  Test Accuracy: 0.817\n",
      "Epoch: 2/2..  Training Loss: 0.537..  Test Loss: 0.476..  Test Accuracy: 0.827\n",
      "Epoch: 2/2..  Training Loss: 0.550..  Test Loss: 0.463..  Test Accuracy: 0.838\n",
      "Epoch: 2/2..  Training Loss: 0.532..  Test Loss: 0.467..  Test Accuracy: 0.826\n",
      "Epoch: 2/2..  Training Loss: 0.524..  Test Loss: 0.463..  Test Accuracy: 0.832\n",
      "Epoch: 2/2..  Training Loss: 0.498..  Test Loss: 0.460..  Test Accuracy: 0.834\n",
      "Epoch: 2/2..  Training Loss: 0.523..  Test Loss: 0.476..  Test Accuracy: 0.836\n",
      "Epoch: 2/2..  Training Loss: 0.541..  Test Loss: 0.481..  Test Accuracy: 0.823\n",
      "Epoch: 2/2..  Training Loss: 0.539..  Test Loss: 0.452..  Test Accuracy: 0.835\n",
      "Epoch: 2/2..  Training Loss: 0.530..  Test Loss: 0.442..  Test Accuracy: 0.839\n",
      "Epoch: 2/2..  Training Loss: 0.475..  Test Loss: 0.452..  Test Accuracy: 0.833\n"
     ]
    }
   ],
   "source": [
    "fc_model.train(model, trainloader, testloader, criterion, optimizer, epochs=2)"
   ]
  },
  {
   "cell_type": "markdown",
   "metadata": {},
   "source": [
    "## Saving and loading networks\n",
    "\n",
    "As you can imagine, it's impractical to train a network every time you need to use it. Instead, we can save trained networks then load them later to train more or use them for predictions.\n",
    "\n",
    "The parameters for PyTorch networks are stored in a model's `state_dict`. We can see the state dict contains the weight and bias matrices for each of our layers."
   ]
  },
  {
   "cell_type": "code",
   "execution_count": 13,
   "metadata": {},
   "outputs": [
    {
     "name": "stdout",
     "output_type": "stream",
     "text": [
      "Our model: \n",
      "\n",
      " Network(\n",
      "  (hidden_layers): ModuleList(\n",
      "    (0): Linear(in_features=784, out_features=512, bias=True)\n",
      "    (1): Linear(in_features=512, out_features=256, bias=True)\n",
      "    (2): Linear(in_features=256, out_features=128, bias=True)\n",
      "  )\n",
      "  (output): Linear(in_features=128, out_features=10, bias=True)\n",
      "  (dropout): Dropout(p=0.5)\n",
      ") \n",
      "\n",
      "The state dict keys: \n",
      "\n",
      " odict_keys(['hidden_layers.0.weight', 'hidden_layers.0.bias', 'hidden_layers.1.weight', 'hidden_layers.1.bias', 'hidden_layers.2.weight', 'hidden_layers.2.bias', 'output.weight', 'output.bias'])\n"
     ]
    }
   ],
   "source": [
    "print(\"Our model: \\n\\n\", model, '\\n')\n",
    "print(\"The state dict keys: \\n\\n\", model.state_dict().keys())"
   ]
  },
  {
   "cell_type": "markdown",
   "metadata": {},
   "source": [
    "The simplest thing to do is simply save the state dict with `torch.save`. For example, we can save it to a file `'checkpoint.pth'`."
   ]
  },
  {
   "cell_type": "code",
   "execution_count": 14,
   "metadata": {},
   "outputs": [],
   "source": [
    "torch.save(model.state_dict(), 'checkpoint.pth')"
   ]
  },
  {
   "cell_type": "markdown",
   "metadata": {},
   "source": [
    "Then we can load the state dict with `torch.load`."
   ]
  },
  {
   "cell_type": "code",
   "execution_count": 16,
   "metadata": {},
   "outputs": [
    {
     "name": "stdout",
     "output_type": "stream",
     "text": [
      "odict_keys(['hidden_layers.0.weight', 'hidden_layers.0.bias', 'hidden_layers.1.weight', 'hidden_layers.1.bias', 'hidden_layers.2.weight', 'hidden_layers.2.bias', 'output.weight', 'output.bias'])\n"
     ]
    }
   ],
   "source": [
    "state_dict = torch.load('checkpoint.pth')\n",
    "print(state_dict.keys())"
   ]
  },
  {
   "cell_type": "markdown",
   "metadata": {},
   "source": [
    "And to load the state dict in to the network, you do `model.load_state_dict(state_dict)`."
   ]
  },
  {
   "cell_type": "code",
   "execution_count": 17,
   "metadata": {},
   "outputs": [],
   "source": [
    "model.load_state_dict(state_dict)"
   ]
  },
  {
   "cell_type": "markdown",
   "metadata": {},
   "source": [
    "Seems pretty straightforward, but as usual it's a bit more complicated. Loading the state dict works only if the model architecture is exactly the same as the checkpoint architecture. If I create a model with a different architecture, this fails."
   ]
  },
  {
   "cell_type": "code",
   "execution_count": null,
   "metadata": {},
   "outputs": [],
   "source": [
    "# Try this\n",
    "model = fc_model.Network(784, 10, [400, 200, 100])\n",
    "# This will throw an error because the tensor sizes are wrong!\n",
    "model.load_state_dict(state_dict)"
   ]
  },
  {
   "cell_type": "markdown",
   "metadata": {},
   "source": [
    "This means we need to rebuild the model exactly as it was when trained. Information about the model architecture needs to be saved in the checkpoint, along with the state dict. To do this, you build a dictionary with all the information you need to compeletely rebuild the model."
   ]
  },
  {
   "cell_type": "code",
   "execution_count": 19,
   "metadata": {},
   "outputs": [],
   "source": [
    "checkpoint = {'input_size': 784,\n",
    "              'output_size': 10,\n",
    "              'hidden_layers': [each.out_features for each in model.hidden_layers],\n",
    "              'state_dict': model.state_dict()}\n",
    "\n",
    "torch.save(checkpoint, 'checkpoint.pth')"
   ]
  },
  {
   "cell_type": "markdown",
   "metadata": {},
   "source": [
    "Now the checkpoint has all the necessary information to rebuild the trained model. You can easily make that a function if you want. Similarly, we can write a function to load checkpoints. "
   ]
  },
  {
   "cell_type": "code",
   "execution_count": 20,
   "metadata": {},
   "outputs": [],
   "source": [
    "def load_checkpoint(filepath):\n",
    "    checkpoint = torch.load(filepath)\n",
    "    model = fc_model.Network(checkpoint['input_size'],\n",
    "                             checkpoint['output_size'],\n",
    "                             checkpoint['hidden_layers'])\n",
    "    model.load_state_dict(checkpoint['state_dict'])\n",
    "    \n",
    "    return model"
   ]
  },
  {
   "cell_type": "code",
   "execution_count": 21,
   "metadata": {},
   "outputs": [
    {
     "name": "stdout",
     "output_type": "stream",
     "text": [
      "Network(\n",
      "  (hidden_layers): ModuleList(\n",
      "    (0): Linear(in_features=784, out_features=400, bias=True)\n",
      "    (1): Linear(in_features=400, out_features=200, bias=True)\n",
      "    (2): Linear(in_features=200, out_features=100, bias=True)\n",
      "  )\n",
      "  (output): Linear(in_features=100, out_features=10, bias=True)\n",
      "  (dropout): Dropout(p=0.5)\n",
      ")\n"
     ]
    }
   ],
   "source": [
    "model = load_checkpoint('checkpoint.pth')\n",
    "print(model)"
   ]
  }
 ],
 "metadata": {
  "kernelspec": {
   "display_name": "Python 3",
   "language": "python",
   "name": "python3"
  },
  "language_info": {
   "codemirror_mode": {
    "name": "ipython",
    "version": 3
   },
   "file_extension": ".py",
   "mimetype": "text/x-python",
   "name": "python",
   "nbconvert_exporter": "python",
   "pygments_lexer": "ipython3",
   "version": "3.6.5"
  }
 },
 "nbformat": 4,
 "nbformat_minor": 2
}
